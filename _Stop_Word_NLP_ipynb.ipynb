{
  "nbformat": 4,
  "nbformat_minor": 0,
  "metadata": {
    "colab": {
      "provenance": [],
      "authorship_tag": "ABX9TyOjwExgn9sagtPwJpXekHzc",
      "include_colab_link": true
    },
    "kernelspec": {
      "name": "python3",
      "display_name": "Python 3"
    },
    "language_info": {
      "name": "python"
    }
  },
  "cells": [
    {
      "cell_type": "markdown",
      "metadata": {
        "id": "view-in-github",
        "colab_type": "text"
      },
      "source": [
        "<a href=\"https://colab.research.google.com/github/naseemkp07/Natural-Language-Processing/blob/main/_Stop_Word_NLP_ipynb.ipynb\" target=\"_parent\"><img src=\"https://colab.research.google.com/assets/colab-badge.svg\" alt=\"Open In Colab\"/></a>"
      ]
    },
    {
      "cell_type": "markdown",
      "source": [
        "#Stop Words"
      ],
      "metadata": {
        "id": "N8s5TcWkhfIJ"
      }
    },
    {
      "cell_type": "code",
      "execution_count": 1,
      "metadata": {
        "colab": {
          "base_uri": "https://localhost:8080/"
        },
        "id": "M3LtnoIOKh0-",
        "outputId": "33773cf4-79f4-4d40-99ca-d308f962b3ec"
      },
      "outputs": [
        {
          "output_type": "stream",
          "name": "stderr",
          "text": [
            "[nltk_data] Downloading package stopwords to /root/nltk_data...\n",
            "[nltk_data]   Unzipping corpora/stopwords.zip.\n",
            "[nltk_data] Downloading package punkt to /root/nltk_data...\n",
            "[nltk_data]   Unzipping tokenizers/punkt.zip.\n"
          ]
        }
      ],
      "source": [
        "import nltk\n",
        "nltk.download('stopwords')\n",
        "nltk.download('punkt')\n",
        "from nltk.corpus import stopwords\n",
        "from nltk.tokenize import word_tokenize"
      ]
    },
    {
      "cell_type": "code",
      "source": [
        "# List of Stop Words already set in a library\n",
        "print(set(stopwords.words('english')))"
      ],
      "metadata": {
        "colab": {
          "base_uri": "https://localhost:8080/"
        },
        "id": "d8CpUIKLhrtQ",
        "outputId": "764ed6b0-9f2b-4d89-e23e-73ebae93ee8c"
      },
      "execution_count": 2,
      "outputs": [
        {
          "output_type": "stream",
          "name": "stdout",
          "text": [
            "{\"mightn't\", \"you're\", 'over', 'in', 'which', \"shouldn't\", 'shan', 'he', 'between', 're', 'didn', 'its', 'being', 'or', 'some', 'has', 'further', 'myself', 'are', 'wasn', 'hers', 'yourselves', 'am', 'only', \"didn't\", 'who', 'for', 'himself', 'until', 'such', 'were', 'what', 'and', 'on', 'doesn', 'doing', \"wasn't\", 'if', 'about', 'me', 'him', 'ours', 'their', 'of', 'the', 'here', 'ourselves', 'before', 'you', 'than', 'against', 'ma', 'there', 'once', 'll', 'into', 'needn', 'off', 'wouldn', 'will', 'below', \"hasn't\", 'was', 'but', \"you've\", \"should've\", 'same', 'themselves', 'an', \"won't\", 'when', 've', 'itself', 'so', \"needn't\", \"she's\", 'now', \"that'll\", 'from', 'all', 't', 'they', 'be', 'does', 'not', 'm', 'because', 'a', 'them', \"couldn't\", 'with', 'his', 'most', 'own', 'have', 'should', 'hadn', 'whom', \"isn't\", 'by', 'yours', 'through', 'mustn', 'we', 'theirs', 'each', 'isn', \"wouldn't\", 'it', 'while', 'yourself', 'haven', 'do', 'out', \"aren't\", \"shan't\", 'up', 'couldn', 'both', 'weren', 'my', 'your', 'more', 'ain', \"don't\", 'won', 's', 'our', 'don', 'o', 'shouldn', 'having', \"you'd\", 'is', 'other', 'mightn', \"you'll\", 'under', \"doesn't\", 'her', 'no', 'been', \"mustn't\", \"it's\", 'aren', 'why', 'these', 'can', 'herself', 'this', 'those', 'd', 'down', 'any', 'how', 'y', 'very', 'then', \"weren't\", 'at', 'too', 'to', \"hadn't\", 'where', 'during', 'that', 'nor', 'i', 'she', 'did', \"haven't\", 'above', 'just', 'as', 'few', 'hasn', 'again', 'after', 'had'}\n"
          ]
        }
      ]
    },
    {
      "cell_type": "code",
      "source": [
        "1.# Remove the stop words from your text\n",
        "\n",
        "# Example Sentence\n",
        "\n",
        "example_sent = \"This is a sample sentence, showing off the stop words filtration.\"\n",
        "\n",
        "# Storing the stop words in a variable\n",
        "stop_words = set(stopwords.words('english'))\n",
        "\n",
        "# Converting 'Example Sentence' into Word Tokens\n",
        "word_tokens = word_tokenize(example_sent)\n",
        "\n",
        "\n",
        "filtered_sentence = []\n",
        "\n",
        "# Removing words which are stop words, Non Stop words extracted\n",
        "for w in word_tokens:\n",
        "    if w not in stop_words:\n",
        "        filtered_sentence.append(w)\n",
        "\n",
        " #List Comprehension\n",
        "#filtered_sentence = [w for w in word_tokens if not w in stop_words]\n",
        "\n",
        "print(\"EXAMPLE SENTENCE\")\n",
        "print(example_sent)\n",
        "print(\"\\n\")\n",
        "print(\"WORD TOKENS\")\n",
        "print(word_tokens)\n",
        "print(\"\\n\")\n",
        "print(\"FILTERED SENTENCE i.e, stop words removed\")\n",
        "print(filtered_sentence)\n"
      ],
      "metadata": {
        "colab": {
          "base_uri": "https://localhost:8080/"
        },
        "id": "T2H7ZRoahrkd",
        "outputId": "f098c27a-9892-46ac-f4f5-6941535d6c70"
      },
      "execution_count": 6,
      "outputs": [
        {
          "output_type": "stream",
          "name": "stdout",
          "text": [
            "EXAMPLE SENTENCE\n",
            "This is a sample sentence, showing off the stop words filtration.\n",
            "\n",
            "\n",
            "WORD TOKENS\n",
            "['This', 'is', 'a', 'sample', 'sentence', ',', 'showing', 'off', 'the', 'stop', 'words', 'filtration', '.']\n",
            "\n",
            "\n",
            "FILTERED SENTENCE i.e, stop words removed\n",
            "['This', 'sample', 'sentence', ',', 'showing', 'stop', 'words', 'filtration', '.']\n"
          ]
        }
      ]
    },
    {
      "cell_type": "code",
      "source": [
        "\n",
        "\n",
        "\n"
      ],
      "metadata": {
        "id": "yJI8_MtXhrfw"
      },
      "execution_count": 5,
      "outputs": []
    }
  ]
}