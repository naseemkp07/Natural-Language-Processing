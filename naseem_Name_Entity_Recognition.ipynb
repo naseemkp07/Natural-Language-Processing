{
  "nbformat": 4,
  "nbformat_minor": 0,
  "metadata": {
    "colab": {
      "provenance": [],
      "authorship_tag": "ABX9TyO1oFv2fX4vnrgOyperb43W",
      "include_colab_link": true
    },
    "kernelspec": {
      "name": "python3",
      "display_name": "Python 3"
    },
    "language_info": {
      "name": "python"
    }
  },
  "cells": [
    {
      "cell_type": "markdown",
      "metadata": {
        "id": "view-in-github",
        "colab_type": "text"
      },
      "source": [
        "<a href=\"https://colab.research.google.com/github/naseemkp07/Natural-Language-Processing/blob/main/naseem_Name_Entity_Recognition.ipynb\" target=\"_parent\"><img src=\"https://colab.research.google.com/assets/colab-badge.svg\" alt=\"Open In Colab\"/></a>"
      ]
    },
    {
      "cell_type": "code",
      "execution_count": 2,
      "metadata": {
        "id": "itMz_KF-Vtel"
      },
      "outputs": [],
      "source": [
        "# Named Entity Recognition\n",
        "\n",
        "# The idea is to have the machine immediately be able to pull out \"entities\"\n",
        "# like people, places, things, locations, monetary figures, and more.\n",
        "# This can be a bit of a challenge, but NLTK is this built in for us.\n",
        "# There are two major options with NLTK's named entity recognition:\n",
        "# either recognize all named entities,\n",
        "# or recognize named entities as their respective type, like people, places, locations, etc."
      ]
    },
    {
      "cell_type": "code",
      "source": [
        "import spacy\n",
        "\n",
        "# Load the English language model from spaCy\n",
        "nlp = spacy.load(\"en_core_web_sm\")"
      ],
      "metadata": {
        "id": "Q1vM4tPGWHrN"
      },
      "execution_count": 3,
      "outputs": []
    },
    {
      "cell_type": "code",
      "source": [
        "# Sample text for NER\n",
        "sample_text = \"\"\"\n",
        "Apple Inc. is planning to open a new store in San Francisco on January 20, 2024.\n",
        "Elon Musk, the CEO of Tesla, announced a new electric car model at a recent conference.\n",
        "The Eiffel Tower is located in Paris, France.\n",
        "\"\"\"\n",
        "\n",
        "# Process the sample text with spaCy NLP pipeline\n",
        "doc = nlp(sample_text)\n",
        "\n",
        "print(doc.ents)"
      ],
      "metadata": {
        "colab": {
          "base_uri": "https://localhost:8080/"
        },
        "id": "-SMiDzU2WHot",
        "outputId": "7d0e5075-eee2-4d43-a325-d2032557eb3b"
      },
      "execution_count": 4,
      "outputs": [
        {
          "output_type": "stream",
          "name": "stdout",
          "text": [
            "(Apple Inc., San Francisco, January 20, 2024, Elon Musk, Tesla, The Eiffel Tower, Paris, France)\n"
          ]
        }
      ]
    },
    {
      "cell_type": "code",
      "source": [
        "# Sample text for NER\n",
        "sample_text = \"\"\"\n",
        "Apple Inc. is planning to open a new store in San Francisco on January 20, 2024.\n",
        "Elon Musk, the CEO of Tesla, announced a new electric car model at a recent conference.\n",
        "The Eiffel Tower is located in Paris, France.\n",
        "\"\"\"\n",
        "\n",
        "# Process the sample text with spaCy NLP pipeline\n",
        "doc = nlp(sample_text)\n",
        "\n",
        "print(doc.ents)"
      ],
      "metadata": {
        "colab": {
          "base_uri": "https://localhost:8080/"
        },
        "id": "s_-V5jTLWHii",
        "outputId": "69c9bdce-78a4-416f-aad4-57b5df218ac1"
      },
      "execution_count": 5,
      "outputs": [
        {
          "output_type": "stream",
          "name": "stdout",
          "text": [
            "(Apple Inc., San Francisco, January 20, 2024, Elon Musk, Tesla, The Eiffel Tower, Paris, France)\n"
          ]
        }
      ]
    },
    {
      "cell_type": "code",
      "source": [
        "# Extract and print named entities\n",
        "for ent in doc.ents:\n",
        "    print(f\"{ent.text} - {ent.label_}\")"
      ],
      "metadata": {
        "colab": {
          "base_uri": "https://localhost:8080/"
        },
        "id": "zMss9ZodWHcf",
        "outputId": "cf72bdd7-a0fe-4d7c-c277-77c71c5945bb"
      },
      "execution_count": 6,
      "outputs": [
        {
          "output_type": "stream",
          "name": "stdout",
          "text": [
            "Apple Inc. - ORG\n",
            "San Francisco - GPE\n",
            "January 20, 2024 - DATE\n",
            "Elon Musk - PERSON\n",
            "Tesla - ORG\n",
            "The Eiffel Tower - FAC\n",
            "Paris - GPE\n",
            "France - GPE\n"
          ]
        }
      ]
    },
    {
      "cell_type": "code",
      "source": [
        "import spacy\n",
        "\n",
        "# Load the English language model from spaCy\n",
        "nlp = spacy.load(\"en_core_web_sm\")\n",
        "\n",
        "# Sample text for NER\n",
        "sample_text = \"\"\"\n",
        "Google was founded by Larry Page and Sergey Brin in September 1998.\n",
        "The Mona Lisa, painted by Leonardo da Vinci, is displayed in the Louvre Museum.\n",
        "Albert Einstein, born on March 14, 1879, was a theoretical physicist.\n",
        "\"\"\"\n",
        "\n",
        "# Process the sample text with spaCy NLP pipeline\n",
        "doc = nlp(sample_text)\n",
        "\n",
        "# Extract and print named entities\n",
        "print(\"Named Entities:\")\n",
        "for ent in doc.ents:\n",
        "    print(f\"{ent.text} - {ent.label_}\")\n",
        "\n",
        "# Extract and print entities with more details\n",
        "print(\"\\nDetailed Entities:\")\n",
        "for ent in doc.ents:\n",
        "    print(f\"{ent.text} - {ent.start} to {ent.end-1} ({ent.label_}) - {spacy.explain(ent.label_)}\")"
      ],
      "metadata": {
        "colab": {
          "base_uri": "https://localhost:8080/"
        },
        "id": "xidIxyzoWHWF",
        "outputId": "18725134-6fb6-40c2-8b20-4036998c5fe3"
      },
      "execution_count": 7,
      "outputs": [
        {
          "output_type": "stream",
          "name": "stdout",
          "text": [
            "Named Entities:\n",
            "Google - ORG\n",
            "Larry Page - PERSON\n",
            "Sergey Brin - PERSON\n",
            "September 1998 - DATE\n",
            "The Mona Lisa - WORK_OF_ART\n",
            "Leonardo da Vinci - PERSON\n",
            "the Louvre Museum - ORG\n",
            "Albert Einstein - PERSON\n",
            "March 14, 1879 - DATE\n",
            "\n",
            "Detailed Entities:\n",
            "Google - 1 to 1 (ORG) - Companies, agencies, institutions, etc.\n",
            "Larry Page - 5 to 6 (PERSON) - People, including fictional\n",
            "Sergey Brin - 8 to 9 (PERSON) - People, including fictional\n",
            "September 1998 - 11 to 12 (DATE) - Absolute or relative dates or periods\n",
            "The Mona Lisa - 15 to 17 (WORK_OF_ART) - Titles of books, songs, etc.\n",
            "Leonardo da Vinci - 21 to 23 (PERSON) - People, including fictional\n",
            "the Louvre Museum - 28 to 30 (ORG) - Companies, agencies, institutions, etc.\n",
            "Albert Einstein - 33 to 34 (PERSON) - People, including fictional\n",
            "March 14, 1879 - 38 to 41 (DATE) - Absolute or relative dates or periods\n"
          ]
        }
      ]
    },
    {
      "cell_type": "code",
      "source": [],
      "metadata": {
        "id": "k70fXefxWHP7"
      },
      "execution_count": 7,
      "outputs": []
    }
  ]
}